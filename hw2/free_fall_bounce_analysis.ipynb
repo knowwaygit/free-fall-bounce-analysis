{
 "cells": [
  {
   "cell_type": "code",
   "execution_count": 1,
   "metadata": {},
   "outputs": [
    {
     "name": "stdout",
     "output_type": "stream",
     "text": [
      "第10次掉下并反弹到最高点时，反弹了0.10米，总路程为299.71米，总时间为25.51秒。\n"
     ]
    }
   ],
   "source": [
    "# 初始高度h0\n",
    "h0 = 100\n",
    "# 重力加速度\n",
    "g = 9.8\n",
    "\n",
    "#计算第n次反弹的高度\n",
    "def height(n):\n",
    "    return h0 * (1/2)**n\n",
    "\n",
    "#计算反弹的总路程\n",
    "def distance(n):\n",
    "    # 第一次下落的路程\n",
    "    total_distance = h0\n",
    "    # 总路程 = 初始下落 + 前n-1次往返（应用了等比数列求和公式） + 第n次上升\n",
    "    total_distance = h0 + 2 * h0 * (1 - 0.5 ** (n-1)) + h0 * 0.5 ** n\n",
    "    return total_distance\n",
    "\n",
    "#计算第n次掉下并反弹到最高点时的总时间\n",
    "def time(n):\n",
    "    # 第一次下落的时间\n",
    "    total_time = (2 * h0 / g)**0.5\n",
    "    # 每次反弹和下落的时间\n",
    "    for i in range(1, n):\n",
    "        total_time += 2 * (2 * h0 * (1/2)**i / g)**0.5\n",
    "    # 第n次反弹的时间\n",
    "    total_time += (2 * h0 * (1/2)**n / g)**0.5\n",
    "    return total_time\n",
    "\n",
    "\n",
    "# 第n次掉下并反弹到最高点时\n",
    "n = 10  # 可以改为任意正整数\n",
    "height_n = height(n)\n",
    "distance_n = distance(n)\n",
    "time_n = time(n)\n",
    "\n",
    "\n",
    "print(f\"第{n}次掉下并反弹到最高点时，反弹了{height_n:.2f}米，总路程为{distance_n:.2f}米，总时间为{time_n:.2f}秒。\")"
   ]
  },
  {
   "cell_type": "code",
   "execution_count": null,
   "metadata": {},
   "outputs": [],
   "source": []
  }
 ],
 "metadata": {
  "kernelspec": {
   "display_name": "Python 3 (ipykernel)",
   "language": "python",
   "name": "python3"
  },
  "language_info": {
   "codemirror_mode": {
    "name": "ipython",
    "version": 3
   },
   "file_extension": ".py",
   "mimetype": "text/x-python",
   "name": "python",
   "nbconvert_exporter": "python",
   "pygments_lexer": "ipython3",
   "version": "3.7.12"
  }
 },
 "nbformat": 4,
 "nbformat_minor": 1
}
